{
 "cells": [
  {
   "cell_type": "code",
   "execution_count": 15,
   "metadata": {
    "scrolled": true
   },
   "outputs": [
    {
     "name": "stdout",
     "output_type": "stream",
     "text": [
      "254\n",
      "22\n"
     ]
    }
   ],
   "source": [
    "import re\n",
    "import numpy as np\n",
    "import scipy.spatial\n",
    "\n",
    "    \n",
    "with open('C:\\Users\\storm\\Downloads\\sentences.txt', 'r') as f:\n",
    "    changed_file = f.read().lower()\n",
    "    sentences = changed_file.split('\\n')\n",
    "    changed_file = re.split('[^a-z]+', changed_file)\n",
    "    changed_file = filter(None, changed_file)\n",
    "    \n",
    "    list_of_words = list(set(changed_file))\n",
    "    unique_words = dict()\n",
    "    \n",
    "    for i in range(len(list_of_words)):\n",
    "        unique_words[i] = list_of_words[i]\n",
    "        \n",
    "d = len(unique_words.keys())\n",
    "n = len(sentences)-1\n",
    "print d\n",
    "print n\n",
    "matrix = np.eye(n, d)"
   ]
  },
  {
   "cell_type": "code",
   "execution_count": 16,
   "metadata": {
    "collapsed": true
   },
   "outputs": [],
   "source": [
    "def fill_matrix(unique_words, sentences, matrix, index):\n",
    "    temp = sentences[index].split()\n",
    "    cnt = 0\n",
    "    for k,v in unique_words.items():\n",
    "        while True:\n",
    "            if v in temp:\n",
    "                cnt += 1\n",
    "                temp.remove(v)\n",
    "            if v not in temp:\n",
    "                matrix[index, k]= cnt\n",
    "                cnt = 0\n",
    "                break\n",
    "            \n",
    "    return matrix     "
   ]
  },
  {
   "cell_type": "code",
   "execution_count": 18,
   "metadata": {},
   "outputs": [
    {
     "name": "stdout",
     "output_type": "stream",
     "text": [
      "[ 0.  0.  0.  0.  0.  0.  0.  0.  0.  0.  0.  0.  0.  0.  0.  0.  0.  0.\n",
      "  0.  0.  0.  0.  0.  1.  0.  0.  0.  0.  0.  0.  0.  0.  0.  0.  0.  0.\n",
      "  1.  1.  0.  0.  0.  0.  0.  0.  0.  0.  0.  0.  0.  0.  0.  0.  0.  0.\n",
      "  0.  0.  0.  0.  0.  0.  0.  0.  0.  0.  0.  0.  0.  0.  0.  0.  0.  0.\n",
      "  0.  0.  0.  0.  0.  0.  0.  0.  0.  0.  0.  0.  0.  0.  0.  0.  0.  0.\n",
      "  0.  0.  0.  0.  0.  0.  0.  0.  0.  0.  0.  0.  0.  0.  0.  0.  0.  1.\n",
      "  0.  0.  1.  0.  0.  0.  0.  0.  0.  0.  0.  0.  0.  0.  0.  0.  1.  0.\n",
      "  0.  0.  0.  0.  0.  0.  0.  0.  0.  0.  1.  0.  0.  0.  0.  0.  0.  0.\n",
      "  0.  0.  0.  0.  0.  0.  0.  0.  0.  0.  0.  0.  0.  0.  0.  0.  0.  0.\n",
      "  0.  0.  0.  0.  0.  0.  0.  0.  0.  0.  0.  0.  0.  0.  0.  0.  0.  0.\n",
      "  1.  0.  0.  0.  0.  0.  0.  0.  0.  0.  0.  0.  0.  1.  0.  0.  0.  1.\n",
      "  0.  0.  0.  0.  0.  0.  0.  0.  0.  0.  0.  0.  0.  0.  0.  0.  0.  0.\n",
      "  0.  0.  0.  0.  0.  0.  0.  0.  0.  0.  0.  0.  0.  0.  1.  0.  0.  0.\n",
      "  0.  0.  0.  0.  0.  0.  0.  0.  0.  0.  0.  0.  0.  0.  0.  0.  0.  1.\n",
      "  0.  0.]\n"
     ]
    }
   ],
   "source": [
    "for i in range(len(sentences)-1):\n",
    "    fill_matrix(unique_words, sentences, matrix, i)\n",
    "print matrix[0]\n"
   ]
  },
  {
   "cell_type": "code",
   "execution_count": 20,
   "metadata": {},
   "outputs": [
    {
     "name": "stdout",
     "output_type": "stream",
     "text": [
      "The most closest sentances for the first one is having parameters\n",
      "Index 6 Distance 0.699035367286\n",
      "Index 21 Distance 0.783493649054\n"
     ]
    }
   ],
   "source": [
    "answer = []\n",
    "for j in range(1,(len(sentences)-1)):\n",
    "    v = matrix[j,]\n",
    "    u = matrix[0,]\n",
    "    answer.append({'index':j, 'distance':scipy.spatial.distance.cosine(u, v)})\n",
    "answer.sort(key = lambda x: x['distance'])\n",
    "print 'The most closest sentances for the first one is having parameters'\n",
    "print 'Index',answer[0][\"index\"], 'Distance', answer[0][\"distance\"]\n",
    "print 'Index',answer[1][\"index\"], 'Distance', answer[1][\"distance\"]\n"
   ]
  },
  {
   "cell_type": "code",
   "execution_count": 21,
   "metadata": {},
   "outputs": [
    {
     "name": "stdout",
     "output_type": "stream",
     "text": [
      "<type 'str'>\n"
     ]
    }
   ],
   "source": [
    "ans = str(answer[0][\"index\"]) + ' ' + str(answer[1][\"index\"])\n",
    "print type(ans)\n",
    "with open('answer.txt', 'w') as wfile:\n",
    "    wfile.write(ans)"
   ]
  },
  {
   "cell_type": "code",
   "execution_count": 10,
   "metadata": {},
   "outputs": [
    {
     "name": "stdout",
     "output_type": "stream",
     "text": [
      "{'index': 6, 'distance': 0.69903536728557691}\n",
      "{'index': 21, 'distance': 0.7834936490538903}\n",
      "{'index': 16, 'distance': 0.79587585476806855}\n",
      "{'index': 4, 'distance': 0.80635083268962915}\n",
      "{'index': 10, 'distance': 0.8153627635310009}\n",
      "{'index': 20, 'distance': 0.8153627635310009}\n",
      "{'index': 12, 'distance': 0.81942122037134613}\n",
      "{'index': 2, 'distance': 0.84690689107605133}\n",
      "{'index': 13, 'distance': 0.85092880150001404}\n",
      "{'index': 14, 'distance': 0.85092880150001404}\n",
      "{'index': 11, 'distance': 0.86391723651204566}\n",
      "{'index': 8, 'distance': 0.8709005551264194}\n",
      "{'index': 19, 'distance': 0.87401184233025764}\n",
      "{'index': 3, 'distance': 0.88214886980224205}\n",
      "{'index': 7, 'distance': 0.90871290708247232}\n",
      "{'index': 5, 'distance': 0.93377338214674777}\n",
      "{'index': 18, 'distance': 0.93545027756320975}\n",
      "{'index': 15, 'distance': 0.9384542545103336}\n",
      "{'index': 1, 'distance': 0.94444444444444442}\n",
      "{'index': 9, 'distance': 0.94444444444444442}\n",
      "{'index': 17, 'distance': 0.95049262285116631}\n",
      "{'index': 22, 'distance': nan}\n"
     ]
    }
   ],
   "source": [
    "for i in answer:\n",
    "    print i"
   ]
  },
  {
   "cell_type": "code",
   "execution_count": null,
   "metadata": {
    "collapsed": true
   },
   "outputs": [],
   "source": []
  }
 ],
 "metadata": {
  "kernelspec": {
   "display_name": "Python 2",
   "language": "python",
   "name": "python2"
  },
  "language_info": {
   "codemirror_mode": {
    "name": "ipython",
    "version": 2
   },
   "file_extension": ".py",
   "mimetype": "text/x-python",
   "name": "python",
   "nbconvert_exporter": "python",
   "pygments_lexer": "ipython2",
   "version": "2.7.13"
  }
 },
 "nbformat": 4,
 "nbformat_minor": 2
}
