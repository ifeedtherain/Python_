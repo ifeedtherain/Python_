{
 "cells": [
  {
   "cell_type": "code",
   "execution_count": 88,
   "metadata": {
    "scrolled": true
   },
   "outputs": [],
   "source": [
    "import re\n",
    "import numpy as np\n",
    "import scipy.spatial\n",
    "\n",
    "\n",
    "with open('C:\\Users\\storm\\Downloads\\sentences.txt', 'r') as fl:\n",
    "    sentences = fl.read().split('\\n')\n",
    "    sentences = filter(None, sentences)\n",
    "    sent_temp = []\n",
    "    \n",
    "    for i in sentences:\n",
    "        i = re.sub(r'[,.></-]', '', i)\n",
    "        sent_temp.append(i)\n",
    "        \n",
    "    sentences = sent_temp\n",
    "    \n",
    "with open('C:\\Users\\storm\\Downloads\\sentences.txt', 'r') as f:\n",
    "    changed_file = f.read().lower()\n",
    "    changed_file = re.split('[^a-z]+', changed_file)\n",
    "    changed_file = filter(None, changed_file)\n",
    "    \n",
    "    list_of_words = list(set(changed_file))\n",
    "    unique_words = dict()\n",
    "    \n",
    "    for i in range(len(list_of_words)):\n",
    "        unique_words[i] = list_of_words[i]\n",
    "        \n",
    "d = len(unique_words.keys())\n",
    "n = len(sentences)\n",
    "matrix = np.eye(n, d)"
   ]
  },
  {
   "cell_type": "code",
   "execution_count": 89,
   "metadata": {},
   "outputs": [],
   "source": [
    "def fill_matrix(unique_words, sentences, matrix, index):\n",
    "    temp = sentences[index].split()\n",
    "    cnt = 0\n",
    "    for k,v in unique_words.items():\n",
    "        while True:\n",
    "            if v in temp:\n",
    "                cnt += 1\n",
    "                temp.remove(v)\n",
    "            if v not in temp:\n",
    "                matrix[index, k]= cnt\n",
    "                cnt = 0\n",
    "                break\n",
    "            \n",
    "    return matrix     "
   ]
  },
  {
   "cell_type": "code",
   "execution_count": 119,
   "metadata": {},
   "outputs": [
    {
     "name": "stdout",
     "output_type": "stream",
     "text": [
      "[ 0.  0.  0.  0.  0.  0.  0.  0.  0.  0.  0.  0.  0.  0.  0.  0.  0.  0.\n",
      "  0.  0.  0.  0.  0.  1.  0.  0.  0.  0.  0.  0.  0.  0.  0.  0.  0.  0.\n",
      "  1.  1.  0.  0.  0.  0.  0.  0.  0.  0.  0.  0.  0.  0.  0.  0.  0.  0.\n",
      "  0.  0.  0.  0.  0.  0.  0.  0.  0.  0.  0.  0.  0.  0.  0.  0.  0.  0.\n",
      "  0.  0.  0.  0.  0.  0.  0.  0.  0.  0.  0.  0.  0.  0.  0.  0.  0.  0.\n",
      "  0.  0.  0.  0.  0.  0.  0.  0.  0.  0.  0.  0.  0.  0.  0.  0.  0.  1.\n",
      "  0.  0.  1.  0.  0.  0.  0.  0.  0.  0.  0.  0.  0.  0.  0.  0.  1.  0.\n",
      "  0.  0.  0.  0.  0.  0.  0.  0.  0.  0.  1.  0.  0.  0.  0.  1.  0.  0.\n",
      "  0.  0.  0.  0.  0.  0.  0.  0.  0.  0.  0.  0.  0.  0.  0.  0.  0.  0.\n",
      "  0.  0.  0.  0.  0.  0.  0.  0.  0.  0.  0.  0.  0.  0.  0.  0.  0.  0.\n",
      "  1.  0.  1.  0.  0.  0.  0.  0.  0.  0.  0.  0.  0.  0.  0.  0.  0.  1.\n",
      "  0.  0.  0.  0.  0.  0.  0.  0.  0.  0.  0.  0.  0.  0.  0.  0.  0.  0.\n",
      "  0.  0.  0.  0.  0.  0.  0.  0.  0.  0.  0.  0.  0.  0.  1.  0.  0.  0.\n",
      "  0.  0.  0.  0.  0.  0.  0.  0.  0.  0.  0.  0.  0.  0.  0.  0.  0.  1.\n",
      "  0.  0.]\n"
     ]
    }
   ],
   "source": [
    "for i in range(len(sentences)):\n",
    "    fill_matrix(unique_words, sentences, matrix, i)\n",
    "print matrix[0]"
   ]
  },
  {
   "cell_type": "code",
   "execution_count": 116,
   "metadata": {},
   "outputs": [
    {
     "name": "stdout",
     "output_type": "stream",
     "text": [
      "The most closest sentances for the first one is having parameters\n",
      "Index 6 Distance 0.763475041604\n",
      "Index 14 Distance 0.832751597999\n",
      "[{'index': 6, 'distance': 0.76347504160436697}, {'index': 14, 'distance': 0.83275159799858178}, {'index': 16, 'distance': 0.84549213921261857}, {'index': 2, 'distance': 0.84808909493744999}, {'index': 21, 'distance': 0.85175013666777977}, {'index': 11, 'distance': 0.86546544120073743}, {'index': 20, 'distance': 0.87274304740484443}, {'index': 4, 'distance': 0.87596526541079156}, {'index': 10, 'distance': 0.87596526541079156}, {'index': 8, 'distance': 0.87732087698357042}, {'index': 12, 'distance': 0.88677229658554046}, {'index': 7, 'distance': 0.91993592309745642}, {'index': 13, 'distance': 0.92307692307692313}, {'index': 18, 'distance': 0.9283885125960567}, {'index': 15, 'distance': 0.93066247547184633}, {'index': 19, 'distance': 0.93273272060036871}, {'index': 17, 'distance': 0.94086876040109169}, {'index': 1, 'distance': 0.95018645186132822}, {'index': 3, 'distance': 1.0}, {'index': 5, 'distance': 1.0}, {'index': 9, 'distance': 1.0}]\n"
     ]
    }
   ],
   "source": [
    "answer = []\n",
    "for j in range(1,len(sentences)):\n",
    "    v = matrix[j,]\n",
    "    u = matrix[0,]\n",
    "    answer.append({'index':j, 'distance':scipy.spatial.distance.cosine(u, v)})\n",
    "answer.sort(key = lambda x: x['distance'])\n",
    "print 'The most closest sentances for the first one is having parameters'\n",
    "print 'Index',answer[0][\"index\"], 'Distance', answer[0][\"distance\"]\n",
    "print 'Index',answer[1][\"index\"], 'Distance', answer[1][\"distance\"]\n"
   ]
  },
  {
   "cell_type": "code",
   "execution_count": 115,
   "metadata": {},
   "outputs": [
    {
     "name": "stdout",
     "output_type": "stream",
     "text": [
      "<type 'str'>\n"
     ]
    }
   ],
   "source": [
    "ans = str(answer[0][\"index\"]) + ' ' + str(answer[1][\"index\"])\n",
    "print type(ans)\n",
    "with open('answer.txt', 'w') as wfile:\n",
    "    wfile.write(ans)"
   ]
  },
  {
   "cell_type": "code",
   "execution_count": 117,
   "metadata": {},
   "outputs": [
    {
     "name": "stdout",
     "output_type": "stream",
     "text": [
      "{'index': 6, 'distance': 0.76347504160436697}\n",
      "{'index': 14, 'distance': 0.83275159799858178}\n",
      "{'index': 16, 'distance': 0.84549213921261857}\n",
      "{'index': 2, 'distance': 0.84808909493744999}\n",
      "{'index': 21, 'distance': 0.85175013666777977}\n",
      "{'index': 11, 'distance': 0.86546544120073743}\n",
      "{'index': 20, 'distance': 0.87274304740484443}\n",
      "{'index': 4, 'distance': 0.87596526541079156}\n",
      "{'index': 10, 'distance': 0.87596526541079156}\n",
      "{'index': 8, 'distance': 0.87732087698357042}\n",
      "{'index': 12, 'distance': 0.88677229658554046}\n",
      "{'index': 7, 'distance': 0.91993592309745642}\n",
      "{'index': 13, 'distance': 0.92307692307692313}\n",
      "{'index': 18, 'distance': 0.9283885125960567}\n",
      "{'index': 15, 'distance': 0.93066247547184633}\n",
      "{'index': 19, 'distance': 0.93273272060036871}\n",
      "{'index': 17, 'distance': 0.94086876040109169}\n",
      "{'index': 1, 'distance': 0.95018645186132822}\n",
      "{'index': 3, 'distance': 1.0}\n",
      "{'index': 5, 'distance': 1.0}\n",
      "{'index': 9, 'distance': 1.0}\n"
     ]
    }
   ],
   "source": [
    "for i in answer:\n",
    "    print i"
   ]
  },
  {
   "cell_type": "code",
   "execution_count": null,
   "metadata": {
    "collapsed": true
   },
   "outputs": [],
   "source": []
  }
 ],
 "metadata": {
  "kernelspec": {
   "display_name": "Python 2",
   "language": "python",
   "name": "python2"
  },
  "language_info": {
   "codemirror_mode": {
    "name": "ipython",
    "version": 2
   },
   "file_extension": ".py",
   "mimetype": "text/x-python",
   "name": "python",
   "nbconvert_exporter": "python",
   "pygments_lexer": "ipython2",
   "version": "2.7.13"
  }
 },
 "nbformat": 4,
 "nbformat_minor": 2
}
