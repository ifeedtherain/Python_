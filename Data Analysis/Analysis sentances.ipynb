{
 "cells": [
  {
   "cell_type": "code",
   "execution_count": 24,
   "metadata": {
    "scrolled": true
   },
   "outputs": [
    {
     "name": "stdout",
     "output_type": "stream",
     "text": [
      "254\n",
      "22\n"
     ]
    }
   ],
   "source": [
    "import re\n",
    "import numpy as np\n",
    "import scipy.spatial\n",
    "\n",
    "\n",
    "with open('C:\\Users\\storm\\Downloads\\sentences.txt', 'r') as f:\n",
    "    sentences = f.read().split('\\n')\n",
    "    sentences = filter(None, sentences)\n",
    "    sent_temp = []\n",
    "    \n",
    "    for i in sentences:\n",
    "        i = re.sub(r'[,.></-]', '', i)\n",
    "        sent_temp.append(i.lower())\n",
    "        \n",
    "    sentences = sent_temp\n",
    "    \n",
    "    f.seek(0)\n",
    "    \n",
    "    changed_file = f.read().lower()\n",
    "    changed_file = re.split('[^a-z]+', changed_file)\n",
    "    changed_file = filter(None, changed_file)\n",
    "    list_of_words = list(set(changed_file))\n",
    "    unique_words = dict()\n",
    "    \n",
    "    for i in range(len(list_of_words)):\n",
    "        unique_words[i] = list_of_words[i]\n",
    "        \n",
    "d = len(unique_words.keys())\n",
    "n = len(sentences)\n",
    "print d\n",
    "print n\n",
    "matrix = np.eye(n, d)"
   ]
  },
  {
   "cell_type": "code",
   "execution_count": 25,
   "metadata": {
    "collapsed": true
   },
   "outputs": [],
   "source": [
    "def fill_matrix(unique_words, sentences, matrix, index):\n",
    "    temp = sentences[index].split()\n",
    "    cnt = 0\n",
    "    for k,v in unique_words.items():\n",
    "        while True:\n",
    "            if v in temp:\n",
    "                cnt += 1\n",
    "                temp.remove(v)\n",
    "            if v not in temp:\n",
    "                matrix[index, k]= cnt\n",
    "                cnt = 0\n",
    "                break\n",
    "            \n",
    "    return matrix     "
   ]
  },
  {
   "cell_type": "code",
   "execution_count": 26,
   "metadata": {},
   "outputs": [
    {
     "name": "stdout",
     "output_type": "stream",
     "text": [
      "[ 0.  0.  0.  0.  0.  0.  0.  0.  0.  0.  0.  0.  0.  0.  0.  0.  0.  0.\n",
      "  0.  0.  0.  0.  0.  1.  0.  0.  0.  0.  0.  0.  0.  0.  0.  0.  0.  0.\n",
      "  1.  1.  0.  0.  0.  0.  0.  0.  0.  0.  0.  0.  0.  0.  0.  0.  0.  0.\n",
      "  0.  0.  0.  0.  0.  0.  0.  0.  0.  0.  0.  0.  0.  0.  0.  0.  0.  0.\n",
      "  0.  0.  0.  0.  0.  0.  0.  0.  0.  0.  0.  0.  0.  0.  0.  0.  0.  0.\n",
      "  0.  0.  0.  0.  0.  0.  0.  0.  0.  0.  0.  0.  0.  0.  0.  0.  0.  1.\n",
      "  0.  0.  1.  0.  0.  0.  0.  0.  0.  0.  0.  0.  0.  0.  0.  0.  1.  0.\n",
      "  0.  0.  0.  0.  0.  0.  0.  0.  0.  0.  1.  0.  0.  0.  0.  1.  0.  0.\n",
      "  0.  0.  0.  0.  0.  0.  0.  0.  0.  0.  0.  0.  0.  0.  0.  0.  0.  0.\n",
      "  0.  0.  0.  0.  0.  0.  0.  0.  0.  0.  0.  0.  0.  0.  0.  0.  0.  0.\n",
      "  1.  0.  1.  0.  0.  0.  0.  0.  0.  0.  0.  0.  0.  1.  0.  0.  0.  1.\n",
      "  0.  0.  0.  0.  0.  0.  0.  0.  0.  0.  0.  0.  0.  0.  0.  0.  0.  0.\n",
      "  0.  0.  0.  0.  0.  0.  0.  0.  0.  0.  0.  0.  0.  0.  1.  0.  0.  0.\n",
      "  0.  0.  0.  0.  0.  0.  0.  0.  0.  0.  0.  0.  0.  0.  0.  0.  0.  1.\n",
      "  0.  0.]\n"
     ]
    }
   ],
   "source": [
    "for i in range(len(sentences)):\n",
    "    fill_matrix(unique_words, sentences, matrix, i)\n",
    "print matrix[0]"
   ]
  },
  {
   "cell_type": "code",
   "execution_count": 27,
   "metadata": {},
   "outputs": [
    {
     "name": "stdout",
     "output_type": "stream",
     "text": [
      "The most closest sentances for the first one is having parameters\n",
      "Index 6 Distance 0.727227637205\n",
      "Index 4 Distance 0.77708871497\n"
     ]
    }
   ],
   "source": [
    "answer = []\n",
    "for j in range(1,len(sentences)):\n",
    "    v = matrix[j,]\n",
    "    u = matrix[0,]\n",
    "    answer.append({'index':j, 'distance':scipy.spatial.distance.cosine(u, v)})\n",
    "answer.sort(key = lambda x: x['distance'])\n",
    "print 'The most closest sentances for the first one is having parameters'\n",
    "print 'Index',answer[0][\"index\"], 'Distance', answer[0][\"distance\"]\n",
    "print 'Index',answer[1][\"index\"], 'Distance', answer[1][\"distance\"]\n"
   ]
  },
  {
   "cell_type": "code",
   "execution_count": 28,
   "metadata": {},
   "outputs": [
    {
     "name": "stdout",
     "output_type": "stream",
     "text": [
      "6 4\n"
     ]
    }
   ],
   "source": [
    "ans = str(answer[0][\"index\"]) + ' ' + str(answer[1][\"index\"])\n",
    "\n",
    "with open('answer.txt', 'w') as wfile:\n",
    "    wfile.write(ans)\n",
    "    print(ans)"
   ]
  },
  {
   "cell_type": "code",
   "execution_count": 29,
   "metadata": {},
   "outputs": [
    {
     "name": "stdout",
     "output_type": "stream",
     "text": [
      "{'index': 6, 'distance': 0.72722763720500949}\n",
      "{'index': 4, 'distance': 0.77708871496985887}\n",
      "{'index': 21, 'distance': 0.81605819815451031}\n",
      "{'index': 16, 'distance': 0.82182583872505044}\n",
      "{'index': 10, 'distance': 0.83281653622739416}\n",
      "{'index': 20, 'distance': 0.83633658232300567}\n",
      "{'index': 12, 'distance': 0.83964325485254543}\n",
      "{'index': 2, 'distance': 0.86447381456421235}\n",
      "{'index': 13, 'distance': 0.86636937904378786}\n",
      "{'index': 14, 'distance': 0.87401184233025764}\n",
      "{'index': 11, 'distance': 0.88047713906656067}\n",
      "{'index': 8, 'distance': 0.88178343906413492}\n",
      "{'index': 19, 'distance': 0.88854435748492944}\n",
      "{'index': 3, 'distance': 0.89517151632780823}\n",
      "{'index': 7, 'distance': 0.92587506833388988}\n",
      "{'index': 5, 'distance': 0.94023856953328033}\n",
      "{'index': 15, 'distance': 0.94427217874246472}\n",
      "{'index': 18, 'distance': 0.94427217874246472}\n",
      "{'index': 9, 'distance': 0.95037083330145344}\n",
      "{'index': 1, 'distance': 0.95275444087384664}\n",
      "{'index': 17, 'distance': 0.95545645968126258}\n"
     ]
    }
   ],
   "source": [
    "for i in answer:\n",
    "    print i"
   ]
  },
  {
   "cell_type": "code",
   "execution_count": null,
   "metadata": {
    "collapsed": true
   },
   "outputs": [],
   "source": []
  }
 ],
 "metadata": {
  "kernelspec": {
   "display_name": "Python 2",
   "language": "python",
   "name": "python2"
  },
  "language_info": {
   "codemirror_mode": {
    "name": "ipython",
    "version": 2
   },
   "file_extension": ".py",
   "mimetype": "text/x-python",
   "name": "python",
   "nbconvert_exporter": "python",
   "pygments_lexer": "ipython2",
   "version": "2.7.13"
  }
 },
 "nbformat": 4,
 "nbformat_minor": 2
}
