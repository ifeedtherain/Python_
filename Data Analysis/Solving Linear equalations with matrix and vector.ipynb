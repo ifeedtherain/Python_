{
 "cells": [
  {
   "cell_type": "code",
   "execution_count": null,
   "metadata": {
    "collapsed": true
   },
   "outputs": [],
   "source": [
    "import numpy\n",
    "a11, a12, b1 = input().split()\n",
    "a21, a22, b2 = input().split()\n",
    "\n",
    "\n",
    "M1 = numpy.array(([float(a11), float(a12)], [float(a21), float(a22)])) # Матрица (левая часть системы)\n",
    "v1 = numpy.array(([float(b1), float(b2)])) # Вектор (правая часть системы)\n",
    "r = numpy.linalg.solve(M1, v1) #Находим решение системы\n",
    "\n",
    "print(r[0], r[1])\n",
    "\n"
   ]
  },
  {
   "cell_type": "code",
   "execution_count": null,
   "metadata": {
    "collapsed": true
   },
   "outputs": [],
   "source": [
    "import numpy\n",
    "a11, a12, b1 = input().split()\n",
    "a21, a22, b2 = input().split()\n",
    "\n",
    "\n",
    "M1 = numpy.array(([float(a11), float(a12),float(a13)], [float(a21), float(a22), float(a23)]))  # Матрица (левая часть системы)\n",
    "v1 = numpy.array(([float(b1), float(b2)])) # Вектор (правая часть системы)\n",
    "\n",
    "if numpy.linalg.det(M1):\n",
    "    r = numpy.linalg.solve(M1, v1) #Находим решение системы\n",
    "    print(r[0], r[1])\n",
    "else:\n",
    "    print('Система не имеет решений')\n",
    "\n",
    "\n",
    "\n",
    " "
   ]
  },
  {
   "cell_type": "code",
   "execution_count": null,
   "metadata": {
    "collapsed": true
   },
   "outputs": [],
   "source": [
    "import numpy\n",
    "a11, a12, a13, b1 = input().split()\n",
    "a21, a22, a23, b2 = input().split()\n",
    "a31, a32, a33, b3 = input().split()\n",
    "\n",
    "\n",
    "M1 = numpy.array(([float(a11), float(a12),float(a13)], [float(a21), float(a22), float(a23)],[float(a31), float(a32), float(a33)]))  # Матрица (левая часть системы)\n",
    "v1 = numpy.array(([float(b1), float(b2), float(b3)])) # Вектор (правая часть системы)\n",
    "\n",
    "if numpy.linalg.det(M1):\n",
    "    r = numpy.linalg.solve(M1, v1) #Находим решение системы\n",
    "    print(r[0], r[1], r[2])\n",
    "else:\n",
    "    print('Система не имеет решений')\n",
    "\n",
    "\n",
    "\n",
    " "
   ]
  },
  {
   "cell_type": "code",
   "execution_count": null,
   "metadata": {
    "collapsed": true
   },
   "outputs": [],
   "source": [
    "import numpy\n",
    "a11, a12, a13, a14, b1 = input().split()\n",
    "a21, a22, a23, a24, b2 = input().split()\n",
    "a31, a32, a33, a34, b3 = input().split()\n",
    "a41, a42, a43, a44, b4 = input().split()\n",
    "\n",
    "\n",
    "\n",
    "M1 = numpy.array(([float(a11), float(a12),float(a13), float(a14)],\n",
    "                  [float(a21), float(a22), float(a23), float(a24)],\n",
    "                  [float(a31), float(a32), float(a33), float(a34)],\n",
    "                  [float(a41), float(a42), float(a43), float(a44)] ))  # Матрица (левая часть системы)\n",
    "\n",
    "v1 = numpy.array(([float(b1), float(b2), float(b3), float(b4)])) # Вектор (правая часть системы)\n",
    "\n",
    "if numpy.linalg.det(M1):\n",
    "    r = numpy.linalg.solve(M1, v1) #Находим решение системы\n",
    "    print(r[0], r[1], r[2], r[3])\n",
    "else:\n",
    "    print('Система не имеет решений')\n",
    "\n",
    "\n",
    "\n",
    " "
   ]
  },
  {
   "cell_type": "code",
   "execution_count": 17,
   "metadata": {},
   "outputs": [
    {
     "name": "stdout",
     "output_type": "stream",
     "text": [
      "2\n",
      "0 2 0\n",
      "2 0 1\n",
      "0.5 0.0 "
     ]
    }
   ],
   "source": [
    "import numpy\n",
    "num = int(input())\n",
    "matrix = []\n",
    "vector = []\n",
    "for i in range(num):\n",
    "    matrix.append([float(i) for i in input().split()])\n",
    "    vector.append(matrix[i].pop(num))\n",
    "    \n",
    "\n",
    "M1 = numpy.array(matrix)  # Матрица (левая часть системы)\n",
    "\n",
    "v1 = numpy.array((vector)) # Вектор (правая часть системы)\n",
    "\n",
    "if numpy.linalg.det(M1):\n",
    "    r = numpy.linalg.solve(M1, v1) #Находим решение системы\n",
    "    for i in range(num):\n",
    "        print(r[i], end=\" \")\n",
    "else:\n",
    "    print('Система не имеет решений')\n",
    "\n",
    "\n",
    "    \n",
    "\n",
    " "
   ]
  },
  {
   "cell_type": "code",
   "execution_count": null,
   "metadata": {
    "collapsed": true
   },
   "outputs": [],
   "source": [
    "import math\n",
    "import numpy\n",
    "data = [float(i) for i in input().split()]\n",
    "\n",
    "matr = numpy.array(([1,-1],[1,1]))\n",
    "vect = numpy.array(([data[0], data[1]]))\n",
    "if vect[0] < vect[1]:\n",
    "    print('Такой класс не существует')\n",
    "else:\n",
    "    r = numpy.linalg.solve(matr, vect) \n",
    "    print(int(math.fabs(r[0])), int(math.fabs(r[1])))"
   ]
  },
  {
   "cell_type": "code",
   "execution_count": null,
   "metadata": {
    "collapsed": true
   },
   "outputs": [],
   "source": [
    "# import numpy\n",
    "# numb = int(input())\n",
    "# matrix = []\n",
    "\n",
    "\n",
    "# for i in range(numb):\n",
    "#     matrix.append([float(i) for i in input().split()])\n",
    "# matrix = numpy.array(matrix)\n",
    "\n",
    "\n",
    "# print(numpy.polyfit(matrix[0],matrix[1], numb) )\n",
    "\n",
    "\n",
    "\n",
    "# # for i in range(len(answer)):\n",
    "# #     print(answer[i], end=\" \")\n",
    "    "
   ]
  },
  {
   "cell_type": "code",
   "execution_count": null,
   "metadata": {
    "collapsed": true
   },
   "outputs": [],
   "source": [
    "3\n",
    "-2 0\n",
    "2 0\n",
    "0 -4"
   ]
  },
  {
   "cell_type": "code",
   "execution_count": 29,
   "metadata": {},
   "outputs": [
    {
     "name": "stdout",
     "output_type": "stream",
     "text": [
      "2\n",
      "0 2\n",
      "2 0\n",
      "[[0.0], [2.0]] [2.0, 0.0]\n"
     ]
    }
   ],
   "source": [
    "import numpy\n",
    "\n",
    "numb = int(input())\n",
    "x = [float(i) for i in input().split()]\n",
    "y = [float(i) for i in input().split()]\n",
    "matrix = [i**n for n in range(len(x))]  #[1,4][0,]\n",
    "vector = []\n",
    "\n",
    "for i in range(numb):\n",
    "    matrix.append([float(i) for i in input().split()])\n",
    "    vector.append(matrix[i].pop(1))\n",
    "print(matrix, vector)\n",
    "    \n",
    "\n",
    "\n"
   ]
  },
  {
   "cell_type": "code",
   "execution_count": 30,
   "metadata": {},
   "outputs": [
    {
     "ename": "LinAlgError",
     "evalue": "Last 2 dimensions of the array must be square",
     "output_type": "error",
     "traceback": [
      "\u001b[1;31m---------------------------------------------------------------------------\u001b[0m",
      "\u001b[1;31mLinAlgError\u001b[0m                               Traceback (most recent call last)",
      "\u001b[1;32m<ipython-input-30-7a6ecc4fc273>\u001b[0m in \u001b[0;36m<module>\u001b[1;34m()\u001b[0m\n\u001b[0;32m      1\u001b[0m \u001b[0mmatrix\u001b[0m \u001b[1;33m=\u001b[0m \u001b[0mnumpy\u001b[0m\u001b[1;33m.\u001b[0m\u001b[0marray\u001b[0m\u001b[1;33m(\u001b[0m\u001b[0mmatrix\u001b[0m\u001b[1;33m)\u001b[0m\u001b[1;33m\u001b[0m\u001b[0m\n\u001b[0;32m      2\u001b[0m \u001b[0mvector\u001b[0m \u001b[1;33m=\u001b[0m \u001b[0mnumpy\u001b[0m\u001b[1;33m.\u001b[0m\u001b[0marray\u001b[0m\u001b[1;33m(\u001b[0m\u001b[0mvector\u001b[0m\u001b[1;33m)\u001b[0m\u001b[1;33m\u001b[0m\u001b[0m\n\u001b[1;32m----> 3\u001b[1;33m \u001b[0mprint\u001b[0m\u001b[1;33m(\u001b[0m\u001b[0mnumpy\u001b[0m\u001b[1;33m.\u001b[0m\u001b[0mlinalg\u001b[0m\u001b[1;33m.\u001b[0m\u001b[0msolve\u001b[0m\u001b[1;33m(\u001b[0m\u001b[0mmatrix\u001b[0m\u001b[1;33m,\u001b[0m\u001b[0mvector\u001b[0m\u001b[1;33m)\u001b[0m\u001b[1;33m)\u001b[0m\u001b[1;33m\u001b[0m\u001b[0m\n\u001b[0m",
      "\u001b[1;32mC:\\Users\\storm\\Anaconda3\\lib\\site-packages\\numpy\\linalg\\linalg.py\u001b[0m in \u001b[0;36msolve\u001b[1;34m(a, b)\u001b[0m\n\u001b[0;32m    356\u001b[0m     \u001b[0ma\u001b[0m\u001b[1;33m,\u001b[0m \u001b[0m_\u001b[0m \u001b[1;33m=\u001b[0m \u001b[0m_makearray\u001b[0m\u001b[1;33m(\u001b[0m\u001b[0ma\u001b[0m\u001b[1;33m)\u001b[0m\u001b[1;33m\u001b[0m\u001b[0m\n\u001b[0;32m    357\u001b[0m     \u001b[0m_assertRankAtLeast2\u001b[0m\u001b[1;33m(\u001b[0m\u001b[0ma\u001b[0m\u001b[1;33m)\u001b[0m\u001b[1;33m\u001b[0m\u001b[0m\n\u001b[1;32m--> 358\u001b[1;33m     \u001b[0m_assertNdSquareness\u001b[0m\u001b[1;33m(\u001b[0m\u001b[0ma\u001b[0m\u001b[1;33m)\u001b[0m\u001b[1;33m\u001b[0m\u001b[0m\n\u001b[0m\u001b[0;32m    359\u001b[0m     \u001b[0mb\u001b[0m\u001b[1;33m,\u001b[0m \u001b[0mwrap\u001b[0m \u001b[1;33m=\u001b[0m \u001b[0m_makearray\u001b[0m\u001b[1;33m(\u001b[0m\u001b[0mb\u001b[0m\u001b[1;33m)\u001b[0m\u001b[1;33m\u001b[0m\u001b[0m\n\u001b[0;32m    360\u001b[0m     \u001b[0mt\u001b[0m\u001b[1;33m,\u001b[0m \u001b[0mresult_t\u001b[0m \u001b[1;33m=\u001b[0m \u001b[0m_commonType\u001b[0m\u001b[1;33m(\u001b[0m\u001b[0ma\u001b[0m\u001b[1;33m,\u001b[0m \u001b[0mb\u001b[0m\u001b[1;33m)\u001b[0m\u001b[1;33m\u001b[0m\u001b[0m\n",
      "\u001b[1;32mC:\\Users\\storm\\Anaconda3\\lib\\site-packages\\numpy\\linalg\\linalg.py\u001b[0m in \u001b[0;36m_assertNdSquareness\u001b[1;34m(*arrays)\u001b[0m\n\u001b[0;32m    210\u001b[0m     \u001b[1;32mfor\u001b[0m \u001b[0ma\u001b[0m \u001b[1;32min\u001b[0m \u001b[0marrays\u001b[0m\u001b[1;33m:\u001b[0m\u001b[1;33m\u001b[0m\u001b[0m\n\u001b[0;32m    211\u001b[0m         \u001b[1;32mif\u001b[0m \u001b[0mmax\u001b[0m\u001b[1;33m(\u001b[0m\u001b[0ma\u001b[0m\u001b[1;33m.\u001b[0m\u001b[0mshape\u001b[0m\u001b[1;33m[\u001b[0m\u001b[1;33m-\u001b[0m\u001b[1;36m2\u001b[0m\u001b[1;33m:\u001b[0m\u001b[1;33m]\u001b[0m\u001b[1;33m)\u001b[0m \u001b[1;33m!=\u001b[0m \u001b[0mmin\u001b[0m\u001b[1;33m(\u001b[0m\u001b[0ma\u001b[0m\u001b[1;33m.\u001b[0m\u001b[0mshape\u001b[0m\u001b[1;33m[\u001b[0m\u001b[1;33m-\u001b[0m\u001b[1;36m2\u001b[0m\u001b[1;33m:\u001b[0m\u001b[1;33m]\u001b[0m\u001b[1;33m)\u001b[0m\u001b[1;33m:\u001b[0m\u001b[1;33m\u001b[0m\u001b[0m\n\u001b[1;32m--> 212\u001b[1;33m             \u001b[1;32mraise\u001b[0m \u001b[0mLinAlgError\u001b[0m\u001b[1;33m(\u001b[0m\u001b[1;34m'Last 2 dimensions of the array must be square'\u001b[0m\u001b[1;33m)\u001b[0m\u001b[1;33m\u001b[0m\u001b[0m\n\u001b[0m\u001b[0;32m    213\u001b[0m \u001b[1;33m\u001b[0m\u001b[0m\n\u001b[0;32m    214\u001b[0m \u001b[1;32mdef\u001b[0m \u001b[0m_assertFinite\u001b[0m\u001b[1;33m(\u001b[0m\u001b[1;33m*\u001b[0m\u001b[0marrays\u001b[0m\u001b[1;33m)\u001b[0m\u001b[1;33m:\u001b[0m\u001b[1;33m\u001b[0m\u001b[0m\n",
      "\u001b[1;31mLinAlgError\u001b[0m: Last 2 dimensions of the array must be square"
     ]
    }
   ],
   "source": [
    "matrix = numpy.array(matrix)\n",
    "vector = numpy.array(vector)\n",
    "print(numpy.linalg.solve(matrix,vector))"
   ]
  },
  {
   "cell_type": "code",
   "execution_count": null,
   "metadata": {
    "collapsed": true
   },
   "outputs": [],
   "source": []
  }
 ],
 "metadata": {
  "kernelspec": {
   "display_name": "Python 2",
   "language": "python",
   "name": "python2"
  },
  "language_info": {
   "codemirror_mode": {
    "name": "ipython",
    "version": 2
   },
   "file_extension": ".py",
   "mimetype": "text/x-python",
   "name": "python",
   "nbconvert_exporter": "python",
   "pygments_lexer": "ipython2",
   "version": "2.7.13"
  }
 },
 "nbformat": 4,
 "nbformat_minor": 2
}
