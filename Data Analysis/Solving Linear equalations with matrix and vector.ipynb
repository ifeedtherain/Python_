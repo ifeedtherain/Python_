{
 "cells": [
  {
   "cell_type": "code",
   "execution_count": null,
   "metadata": {},
   "outputs": [],
   "source": [
    "import numpy\n",
    "a11, a12, b1 = input().split()\n",
    "a21, a22, b2 = input().split()\n",
    "\n",
    "\n",
    "M1 = numpy.array(([float(a11), float(a12)], [float(a21), float(a22)])) # Матрица (левая часть системы)\n",
    "v1 = numpy.array(([float(b1), float(b2)])) # Вектор (правая часть системы)\n",
    "print(M1)\n",
    "print(v1)\n",
    "r = numpy.linalg.solve(M1, v1) #Находим решение системы\n",
    "\n",
    "print(r[0], r[1])\n",
    "\n"
   ]
  },
  {
   "cell_type": "code",
   "execution_count": null,
   "metadata": {
    "collapsed": true
   },
   "outputs": [],
   "source": [
    "import numpy\n",
    "a11, a12, b1 = input().split()\n",
    "a21, a22, b2 = input().split()\n",
    "\n",
    "\n",
    "M1 = numpy.array(([float(a11), float(a12),float(a13)], [float(a21), float(a22), float(a23)]))  # Матрица (левая часть системы)\n",
    "v1 = numpy.array(([float(b1), float(b2)])) # Вектор (правая часть системы)\n",
    "\n",
    "if numpy.linalg.det(M1):\n",
    "    r = numpy.linalg.solve(M1, v1) #Находим решение системы\n",
    "    print(r[0], r[1])\n",
    "else:\n",
    "    print('Система не имеет решений')\n",
    "\n",
    "\n",
    "\n",
    " "
   ]
  },
  {
   "cell_type": "code",
   "execution_count": null,
   "metadata": {
    "collapsed": true
   },
   "outputs": [],
   "source": [
    "import numpy\n",
    "a11, a12, a13, b1 = input().split()\n",
    "a21, a22, a23, b2 = input().split()\n",
    "a31, a32, a33, b3 = input().split()\n",
    "\n",
    "\n",
    "M1 = numpy.array(([float(a11), float(a12),float(a13)],\n",
    "                  [float(a21), float(a22), float(a23)],\n",
    "                  [float(a31), float(a32), float(a33)]))  # Матрица (левая часть системы)\n",
    "\n",
    "v1 = numpy.array(([float(b1), float(b2), float(b3)])) # Вектор (правая часть системы)\n",
    "\n",
    "if numpy.linalg.det(M1):\n",
    "    r = numpy.linalg.solve(M1, v1) #Находим решение системы\n",
    "    print(r[0], r[1], r[2])\n",
    "else:\n",
    "    print('Система не имеет решений')\n",
    "\n",
    "\n",
    "\n",
    " "
   ]
  },
  {
   "cell_type": "code",
   "execution_count": null,
   "metadata": {
    "collapsed": true
   },
   "outputs": [],
   "source": [
    "import numpy\n",
    "a11, a12, a13, a14, b1 = input().split()\n",
    "a21, a22, a23, a24, b2 = input().split()\n",
    "a31, a32, a33, a34, b3 = input().split()\n",
    "a41, a42, a43, a44, b4 = input().split()\n",
    "\n",
    "\n",
    "\n",
    "M1 = numpy.array(([float(a11), float(a12),float(a13), float(a14)],\n",
    "                  [float(a21), float(a22), float(a23), float(a24)],\n",
    "                  [float(a31), float(a32), float(a33), float(a34)],\n",
    "                  [float(a41), float(a42), float(a43), float(a44)] ))  # Матрица (левая часть системы)\n",
    "\n",
    "v1 = numpy.array(([float(b1), float(b2), float(b3), float(b4)])) # Вектор (правая часть системы)\n",
    "\n",
    "if numpy.linalg.det(M1):\n",
    "    r = numpy.linalg.solve(M1, v1) #Находим решение системы\n",
    "    print(r[0], r[1], r[2], r[3])\n",
    "else:\n",
    "    print('Система не имеет решений')\n",
    "\n",
    "\n",
    "\n",
    " "
   ]
  },
  {
   "cell_type": "code",
   "execution_count": null,
   "metadata": {
    "collapsed": true
   },
   "outputs": [],
   "source": [
    "import numpy\n",
    "num = int(input())\n",
    "matrix = []\n",
    "vector = []\n",
    "for i in range(num):\n",
    "    matrix.append([float(i) for i in input().split()])\n",
    "    vector.append(matrix[i].pop(num))\n",
    "    \n",
    "\n",
    "M1 = numpy.array(matrix)  # Матрица (левая часть системы)\n",
    "\n",
    "v1 = numpy.array((vector)) # Вектор (правая часть системы)\n",
    "\n",
    "if numpy.linalg.det(M1):\n",
    "    r = numpy.linalg.solve(M1, v1) #Находим решение системы\n",
    "    for i in range(num):\n",
    "        print(r[i], end=\" \")\n",
    "else:\n",
    "    print('Система не имеет решений')\n",
    "\n",
    "\n",
    "    \n",
    "\n",
    " "
   ]
  },
  {
   "cell_type": "code",
   "execution_count": null,
   "metadata": {
    "collapsed": true
   },
   "outputs": [],
   "source": [
    "import math\n",
    "import numpy\n",
    "data = [float(i) for i in input().split()]\n",
    "\n",
    "matr = numpy.array(([1,-1],[1,1]))\n",
    "vect = numpy.array(([data[0], data[1]]))\n",
    "if vect[0] < vect[1]:\n",
    "    print('Такой класс не существует')\n",
    "else:\n",
    "    r = numpy.linalg.solve(matr, vect) \n",
    "    print(int(math.fabs(r[0])), int(math.fabs(r[1])))"
   ]
  },
  {
   "cell_type": "code",
   "execution_count": null,
   "metadata": {
    "collapsed": true
   },
   "outputs": [],
   "source": [
    "3\n",
    "-2 0\n",
    "2 0\n",
    "0 -4"
   ]
  },
  {
   "cell_type": "code",
   "execution_count": null,
   "metadata": {},
   "outputs": [],
   "source": [
    "import numpy\n",
    "\n",
    "numb = int(input())\n",
    "\n",
    "matrix = []\n",
    "vector = []\n",
    "for i in range(numb):\n",
    "    temp = [float(i) for i in input().split()]\n",
    "    matrix.append(([temp[0] ** n for n in range(numb)]))\n",
    "    vector.append((temp[1]))\n",
    "    \n",
    "\n",
    "result = numpy.linalg.solve(matrix, vector)\n",
    "print(*result)\n",
    "    \n"
   ]
  },
  {
   "cell_type": "code",
   "execution_count": null,
   "metadata": {},
   "outputs": [],
   "source": [
    "3\n",
    "-2 0\n",
    "2 0\n",
    "0 -4   # res = -4.0 0.0 1.0\n",
    "\n",
    "2\n",
    "0 2\n",
    "2 0   # res = 2.0 -1.0"
   ]
  },
  {
   "cell_type": "code",
   "execution_count": null,
   "metadata": {},
   "outputs": [],
   "source": []
  },
  {
   "cell_type": "code",
   "execution_count": 23,
   "metadata": {},
   "outputs": [
    {
     "data": {
      "image/png": "[encoded data removed]",
      "text/plain": [
       "<matplotlib.figure.Figure at 0x19d4596e908>"
      ]
     },
     "metadata": {},
     "output_type": "display_data"
    }
   ],
   "source": [
    "import matplotlib.pyplot as plt\n",
    "import numpy\n",
    "%matplotlib inline\n",
    "c = [2.0, -1.0, -4.0, 0.0, 1.0]\n",
    "\n",
    "def f(x, c):\n",
    "    return c[0]+c[1]*x+c[2]*x**2+c[3]*x**3+c[4]*x**4\n",
    "\n",
    "x=numpy.arange(2, 1, 2) #Массив значений аргумента\n",
    "plt.plot(x, f(x, c)) #Построение графика\n",
    "plt.xlabel(r'$x$') #Метка по оси x в формате TeX\n",
    "plt.ylabel(r'$f(x)$') #Метка по оси y в формате TeX\n",
    "plt.grid(True) #Сетка\n",
    "plt.show() #Показать график"
   ]
  },
  {
   "cell_type": "code",
   "execution_count": null,
   "metadata": {
    "collapsed": true
   },
   "outputs": [],
   "source": []
  }
 ],
 "metadata": {
  "kernelspec": {
   "display_name": "Python 3",
   "language": "python",
   "name": "python3"
  },
  "language_info": {
   "codemirror_mode": {
    "name": "ipython",
    "version": 3
   },
   "file_extension": ".py",
   "mimetype": "text/x-python",
   "name": "python",
   "nbconvert_exporter": "python",
   "pygments_lexer": "ipython3",
   "version": "3.6.1"
  }
 },
 "nbformat": 4,
 "nbformat_minor": 2
}
