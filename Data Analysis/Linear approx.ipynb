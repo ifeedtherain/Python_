{
 "cells": [
  {
   "cell_type": "code",
   "execution_count": 74,
   "metadata": {
    "collapsed": true
   },
   "outputs": [],
   "source": [
    "import math\n",
    "import numpy as np\n",
    "import matplotlib.pyplot  as plt\n",
    "from __future__ import division\n",
    "\n",
    "\n",
    "#f(x) = sin(x / 5) * exp(x / 10) + 5 * exp(-x / 2)\n",
    "def f(x):\n",
    "    return  math.sin(x / 5) * math.exp(x / 10) + 5 * math.exp(-x / 2)\n",
    "x1 = (1, 15)\n",
    "x2 = (1, 8, 15)\n",
    "x = (1, 4, 10, 15)"
   ]
  },
  {
   "cell_type": "code",
   "execution_count": 75,
   "metadata": {},
   "outputs": [
    {
     "name": "stdout",
     "output_type": "stream",
     "text": [
      "[[   1    1    1    1]\n",
      " [   1    4   16   64]\n",
      " [   1   10  100 1000]\n",
      " [   1   15  225 3375]]\n",
      "[ 3.25221687  1.74684595  2.50541641  0.63522142]\n",
      "[ 4.36264154 -1.29552587  0.19333685 -0.00823565]\n"
     ]
    }
   ],
   "source": [
    "a_matrix = [[i**n for n in range(len(x))]for i in x]\n",
    "b_vector = [f(i) for i in x]\n",
    "\n",
    "a_matrix = np.array(a_matrix)\n",
    "b_vector = np.array(b_vector)\n",
    "\n",
    "result = np.linalg.solve(a_matrix,b_vector)\n",
    "print(a_matrix)\n",
    "print(b_vector)\n",
    "print(result)"
   ]
  },
  {
   "cell_type": "code",
   "execution_count": 76,
   "metadata": {},
   "outputs": [
    {
     "data": {
      "image/png": "[encoded data removed]",
      "text/plain": [
       "<matplotlib.figure.Figure at 0x8cbf9e8>"
      ]
     },
     "metadata": {},
     "output_type": "display_data"
    }
   ],
   "source": [
    "x = np.array(result)\n",
    "plt.plot(x, b_vector)\n",
    "plt.xlabel(r'$x$')\n",
    "plt.ylabel(r'$f(x)$')\n",
    "plt.grid(True)\n",
    "plt.show()"
   ]
  },
  {
   "cell_type": "code",
   "execution_count": 78,
   "metadata": {},
   "outputs": [
    {
     "name": "stdout",
     "output_type": "stream",
     "text": [
      "('4.36', '-1.3', '0.19', '-0.01')\n"
     ]
    }
   ],
   "source": [
    "ans = [str(round(i,2)) for i in result]\n",
    "print tuple(ans)\n",
    "with open('result.txt', 'w') as wf:\n",
    "    for i in ans:\n",
    "        wf.write(i + ' ')"
   ]
  }
 ],
 "metadata": {
  "kernelspec": {
   "display_name": "Python 2",
   "language": "python",
   "name": "python2"
  },
  "language_info": {
   "codemirror_mode": {
    "name": "ipython",
    "version": 2
   },
   "file_extension": ".py",
   "mimetype": "text/x-python",
   "name": "python",
   "nbconvert_exporter": "python",
   "pygments_lexer": "ipython2",
   "version": "2.7.13"
  }
 },
 "nbformat": 4,
 "nbformat_minor": 2
}
