{
 "cells": [
  {
   "cell_type": "code",
   "execution_count": 111,
   "metadata": {
    "collapsed": true
   },
   "outputs": [],
   "source": [
    "import math\n",
    "from __future__ import division\n",
    "import numpy as np\n",
    "import scipy.optimize\n",
    "import matplotlib.pyplot as plt"
   ]
  },
  {
   "cell_type": "markdown",
   "metadata": {},
   "source": [
    "##  f(x) = sin(x / 5) * exp(x / 10) + 5 * exp(-x / 2),  [1, 30]"
   ]
  },
  {
   "cell_type": "code",
   "execution_count": 163,
   "metadata": {},
   "outputs": [],
   "source": [
    "def fx(x):\n",
    "    return (math.sin(x / 5)) * (math.exp(x / 10)) + 5 * (math.exp(-x / 2))"
   ]
  },
  {
   "cell_type": "code",
   "execution_count": 143,
   "metadata": {},
   "outputs": [
    {
     "name": "stdout",
     "output_type": "stream",
     "text": [
      "[1.75, -11.9]\n"
     ]
    }
   ],
   "source": [
    "answer = []\n",
    "first_answer = scipy.optimize.minimize(fx, 3, method = \"BFGS\")\n",
    "answer.append(round(first_answer.fun,2))\n",
    "second_answer = scipy.optimize.minimize(fx, 31, method = \"BFGS\")\n",
    "answer.append(round(second_answer.fun,2))\n",
    "\n",
    "print answer"
   ]
  },
  {
   "cell_type": "code",
   "execution_count": 114,
   "metadata": {},
   "outputs": [],
   "source": [
    "with open('first_optfunc.txt', 'w') as file:\n",
    "    file.write(str(answer[0]) + ' ' + str(answer[1]))"
   ]
  },
  {
   "cell_type": "code",
   "execution_count": 118,
   "metadata": {},
   "outputs": [
    {
     "data": {
      "image/png": "[encoded data removed]",
      "text/plain": [
       "<matplotlib.figure.Figure at 0x8f56e80>"
      ]
     },
     "metadata": {},
     "output_type": "display_data"
    }
   ],
   "source": [
    "%matplotlib inline\n",
    "x = [i for i in range(1,31)]\n",
    "y = [fx(i) for i in x]\n",
    "plt.plot(x, y)\n",
    "plt.grid(True)\n",
    "plt.show()"
   ]
  },
  {
   "cell_type": "markdown",
   "metadata": {},
   "source": [
    "## Differential evolution to f(x) = sin(x / 5) exp(x / 10) + 5 exp(-x / 2), [1, 30]"
   ]
  },
  {
   "cell_type": "code",
   "execution_count": 156,
   "metadata": {},
   "outputs": [],
   "source": [
    "diff_ans = []\n",
    "first_diff = (scipy.optimize.differential_evolution(fx, [(1, 31)]))\n",
    "diff_ans.append(first_diff.fun)\n"
   ]
  },
  {
   "cell_type": "code",
   "execution_count": 137,
   "metadata": {
    "collapsed": true
   },
   "outputs": [],
   "source": [
    "with open('second_optfunc.txt', 'w') as file2:\n",
    "    file2.write(str(round(diff_ans[0],2)))"
   ]
  },
  {
   "cell_type": "code",
   "execution_count": 142,
   "metadata": {},
   "outputs": [
    {
     "name": "stdout",
     "output_type": "stream",
     "text": [
      "      fun: 1.7452682905867012\n",
      " hess_inv: array([[ 5.94245992]])\n",
      "      jac: array([ -9.16421413e-06])\n",
      "  message: 'Optimization terminated successfully.'\n",
      "     nfev: 18\n",
      "      nit: 5\n",
      "     njev: 6\n",
      "   status: 0\n",
      "  success: True\n",
      "        x: array([ 4.13623323])\n",
      " \n",
      "      fun: -11.898894665956139\n",
      " hess_inv: array([[ 1.67193611]])\n",
      "      jac: array([  5.60283661e-06])\n",
      "  message: 'Optimization terminated successfully.'\n",
      "     nfev: 21\n",
      "      nit: 6\n",
      "     njev: 7\n",
      "   status: 0\n",
      "  success: True\n",
      "        x: array([ 25.88020223])\n",
      " \n",
      "     fun: -11.898894665981318\n",
      "     jac: array([ -1.77635684e-07])\n",
      " message: 'Optimization terminated successfully.'\n",
      "    nfev: 81\n",
      "     nit: 4\n",
      " success: True\n",
      "       x: array([ 25.88019313])\n"
     ]
    }
   ],
   "source": [
    "print first_answer\n",
    "print ' '\n",
    "print second_answer\n",
    "print ' '\n",
    "print first_diff"
   ]
  },
  {
   "cell_type": "code",
   "execution_count": null,
   "metadata": {
    "collapsed": true
   },
   "outputs": [],
   "source": [
    "## h"
   ]
  },
  {
   "cell_type": "code",
   "execution_count": 179,
   "metadata": {},
   "outputs": [
    {
     "name": "stdout",
     "output_type": "stream",
     "text": [
      "      fun: -5\n",
      " hess_inv: array([[1]])\n",
      "      jac: array([ 0.])\n",
      "  message: 'Optimization terminated successfully.'\n",
      "     nfev: 3\n",
      "      nit: 0\n",
      "     njev: 1\n",
      "   status: 0\n",
      "  success: True\n",
      "        x: array([ 30.])\n",
      " \n",
      "     fun: -11.0\n",
      " message: 'Optimization terminated successfully.'\n",
      "    nfev: 77\n",
      "     nit: 4\n",
      " success: True\n",
      "       x: array([ 26.75435985])\n"
     ]
    }
   ],
   "source": [
    "def h(x):\n",
    "    return int((math.sin(x / 5)) * (math.exp(x / 10)) + 5 * (math.exp(-x / 2)))\n",
    "\n",
    "\n",
    "int_opt = scipy.optimize.minimize(h, 30, method = \"BFGS\")\n",
    "int_diff = scipy.optimize.differential_evolution(h, [(1, 31)])\n",
    "print int_opt\n",
    "print ' '\n",
    "print int_diff"
   ]
  },
  {
   "cell_type": "code",
   "execution_count": 172,
   "metadata": {},
   "outputs": [
    {
     "data": {
      "image/png": "[encoded data removed]",
      "text/plain": [
       "<matplotlib.figure.Figure at 0x9886208>"
      ]
     },
     "metadata": {},
     "output_type": "display_data"
    }
   ],
   "source": [
    "x1 = [i for i in range(1,31)]\n",
    "y1 = [h(j) for j in x]\n",
    "plt.plot(x1, y1)\n",
    "plt.grid(True)"
   ]
  },
  {
   "cell_type": "code",
   "execution_count": 181,
   "metadata": {},
   "outputs": [],
   "source": [
    "with open('third_answer.txt', 'w') as tfile:\n",
    "    tfile.write(str(int_opt.fun) + ' ' + str(int_diff.fun))"
   ]
  },
  {
   "cell_type": "code",
   "execution_count": null,
   "metadata": {
    "collapsed": true
   },
   "outputs": [],
   "source": []
  }
 ],
 "metadata": {
  "kernelspec": {
   "display_name": "Python 2",
   "language": "python",
   "name": "python2"
  },
  "language_info": {
   "codemirror_mode": {
    "name": "ipython",
    "version": 2
   },
   "file_extension": ".py",
   "mimetype": "text/x-python",
   "name": "python",
   "nbconvert_exporter": "python",
   "pygments_lexer": "ipython2",
   "version": "2.7.13"
  }
 },
 "nbformat": 4,
 "nbformat_minor": 2
}
